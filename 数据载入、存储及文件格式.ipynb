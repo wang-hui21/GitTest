{
 "cells": [
  {
   "cell_type": "markdown",
   "id": "5dfd1b72",
   "metadata": {},
   "source": [
    "## 6.1 文本格式数据读写"
   ]
  },
  {
   "cell_type": "code",
   "execution_count": 15,
   "id": "8f1806fe",
   "metadata": {},
   "outputs": [],
   "source": [
    "import pandas as pd\n",
    "import numpy as np\n",
    "df=pd.DataFrame([['a','b','c','d','message'],\n",
    "                ['1','2','3','4','hello'],\n",
    "                ['5','6','7','8','world'],\n",
    "                ['9','10','11','12','foo']])\n",
    "df.to_csv(\"ex1.csv\",index=False,header=None)"
   ]
  },
  {
   "cell_type": "code",
   "execution_count": 16,
   "id": "b7c4c854",
   "metadata": {},
   "outputs": [
    {
     "name": "stdout",
     "output_type": "stream",
     "text": [
      "   a   b   c   d message\n",
      "0  1   2   3   4   hello\n",
      "1  5   6   7   8   world\n",
      "2  9  10  11  12     foo\n"
     ]
    }
   ],
   "source": [
    "df=pd.read_csv(\"ex1.csv\")\n",
    "print(df)"
   ]
  },
  {
   "cell_type": "code",
   "execution_count": 18,
   "id": "10415cb1",
   "metadata": {},
   "outputs": [
    {
     "name": "stdout",
     "output_type": "stream",
     "text": [
      "   0   1   2   3        4\n",
      "0  a   b   c   d  message\n",
      "1  1   2   3   4    hello\n",
      "2  5   6   7   8    world\n",
      "3  9  10  11  12      foo\n"
     ]
    }
   ],
   "source": [
    "df=pd.read_csv(\"ex1.csv\",header=None)     #源文件中没有表头，生成默认表头\n",
    "print(df)"
   ]
  },
  {
   "cell_type": "code",
   "execution_count": 20,
   "id": "49c9198b",
   "metadata": {},
   "outputs": [
    {
     "name": "stdout",
     "output_type": "stream",
     "text": [
      "   a   b   c   d  message\n",
      "0  a   b   c   d  message\n",
      "1  1   2   3   4    hello\n",
      "2  5   6   7   8    world\n",
      "3  9  10  11  12      foo\n"
     ]
    }
   ],
   "source": [
    "df=pd.read_csv(\"ex1.csv\",names=['a','b','c','d','message'])  #指定表头\n",
    "print(df)"
   ]
  },
  {
   "cell_type": "code",
   "execution_count": 24,
   "id": "4f14fa36",
   "metadata": {},
   "outputs": [
    {
     "data": {
      "text/html": [
       "<div>\n",
       "<style scoped>\n",
       "    .dataframe tbody tr th:only-of-type {\n",
       "        vertical-align: middle;\n",
       "    }\n",
       "\n",
       "    .dataframe tbody tr th {\n",
       "        vertical-align: top;\n",
       "    }\n",
       "\n",
       "    .dataframe thead th {\n",
       "        text-align: right;\n",
       "    }\n",
       "</style>\n",
       "<table border=\"1\" class=\"dataframe\">\n",
       "  <thead>\n",
       "    <tr style=\"text-align: right;\">\n",
       "      <th></th>\n",
       "      <th>a</th>\n",
       "      <th>b</th>\n",
       "      <th>c</th>\n",
       "      <th>d</th>\n",
       "    </tr>\n",
       "    <tr>\n",
       "      <th>message</th>\n",
       "      <th></th>\n",
       "      <th></th>\n",
       "      <th></th>\n",
       "      <th></th>\n",
       "    </tr>\n",
       "  </thead>\n",
       "  <tbody>\n",
       "    <tr>\n",
       "      <th>message</th>\n",
       "      <td>a</td>\n",
       "      <td>b</td>\n",
       "      <td>c</td>\n",
       "      <td>d</td>\n",
       "    </tr>\n",
       "    <tr>\n",
       "      <th>hello</th>\n",
       "      <td>1</td>\n",
       "      <td>2</td>\n",
       "      <td>3</td>\n",
       "      <td>4</td>\n",
       "    </tr>\n",
       "    <tr>\n",
       "      <th>world</th>\n",
       "      <td>5</td>\n",
       "      <td>6</td>\n",
       "      <td>7</td>\n",
       "      <td>8</td>\n",
       "    </tr>\n",
       "    <tr>\n",
       "      <th>foo</th>\n",
       "      <td>9</td>\n",
       "      <td>10</td>\n",
       "      <td>11</td>\n",
       "      <td>12</td>\n",
       "    </tr>\n",
       "  </tbody>\n",
       "</table>\n",
       "</div>"
      ],
      "text/plain": [
       "         a   b   c   d\n",
       "message               \n",
       "message  a   b   c   d\n",
       "hello    1   2   3   4\n",
       "world    5   6   7   8\n",
       "foo      9  10  11  12"
      ]
     },
     "execution_count": 24,
     "metadata": {},
     "output_type": "execute_result"
    }
   ],
   "source": [
    "#可以将message值作为列索引\n",
    "names=['a','b','c','d','message']\n",
    "pd.read_csv(\"ex1.csv\",names=names,index_col='message')"
   ]
  },
  {
   "cell_type": "markdown",
   "id": "1df1e334",
   "metadata": {},
   "source": [
    "### 6.1.2 将数据写入文本格式"
   ]
  },
  {
   "cell_type": "markdown",
   "id": "d42cf851",
   "metadata": {},
   "source": [
    "#### 存入文件时，可以自定义分隔符：sep='|'\n",
    "#### 用其他标识值对缺失值进行标注：na_rep='NULL'\n",
    "#### 行列标签禁止写入：index=False,header=False\n",
    "#### 写入列的子集，对列赋列表：columns=['a','b','c']"
   ]
  },
  {
   "cell_type": "markdown",
   "id": "369bbb2f",
   "metadata": {},
   "source": [
    "### 6.1.4 JSON数据"
   ]
  },
  {
   "cell_type": "code",
   "execution_count": 26,
   "id": "73b1ad7e",
   "metadata": {},
   "outputs": [
    {
     "name": "stdout",
     "output_type": "stream",
     "text": [
      "{'name': 'wes', 'places_lived': ['United States', 'Spain', 'Germany'], 'pet': None, 'siblings': [{'name': 'Scott', 'age': 30, 'pets': ['Zeus', 'Zuko']}, {'name': 'Katie', 'age': 38, 'pets': ['Sixes', 'Stache', 'Cisco']}]}\n"
     ]
    }
   ],
   "source": [
    "obj=\"\"\"\n",
    "{\n",
    "\"name\":\"wes\",\n",
    "\"places_lived\":[\"United States\",\"Spain\",\"Germany\"],\n",
    "\"pet\":null,\n",
    "\"siblings\":[{\"name\":\"Scott\",\"age\":30,\"pets\":[\"Zeus\",\"Zuko\"]},\n",
    "{\"name\":\"Katie\",\"age\":38,\"pets\":[\"Sixes\",\"Stache\",\"Cisco\"]}]\n",
    "}\"\"\"\n",
    "import json\n",
    "result=json.loads(obj)\n",
    "print(result)"
   ]
  },
  {
   "cell_type": "code",
   "execution_count": 28,
   "id": "498166f8",
   "metadata": {},
   "outputs": [
    {
     "name": "stdout",
     "output_type": "stream",
     "text": [
      "    name  age\n",
      "0  Scott   30\n",
      "1  Katie   38\n"
     ]
    }
   ],
   "source": [
    "#JSON转为DataFrame\n",
    "siblings=pd.DataFrame(result['siblings'],columns=['name','age'])# 选择对应得行列\n",
    "print(siblings)"
   ]
  },
  {
   "cell_type": "code",
   "execution_count": 30,
   "id": "a46ec7d7",
   "metadata": {},
   "outputs": [
    {
     "name": "stdout",
     "output_type": "stream",
     "text": [
      "{\"name\":{\"0\":\"Scott\",\"1\":\"Katie\"},\"age\":{\"0\":30,\"1\":38}}\n"
     ]
    }
   ],
   "source": [
    "print(siblings.to_json())#字典不可以转换为json，Series和DataFrame可以输出为json"
   ]
  },
  {
   "cell_type": "code",
   "execution_count": null,
   "id": "e2f6e7ad",
   "metadata": {},
   "outputs": [],
   "source": []
  }
 ],
 "metadata": {
  "kernelspec": {
   "display_name": "Python 3 (ipykernel)",
   "language": "python",
   "name": "python3"
  },
  "language_info": {
   "codemirror_mode": {
    "name": "ipython",
    "version": 3
   },
   "file_extension": ".py",
   "mimetype": "text/x-python",
   "name": "python",
   "nbconvert_exporter": "python",
   "pygments_lexer": "ipython3",
   "version": "3.7.15"
  }
 },
 "nbformat": 4,
 "nbformat_minor": 5
}
