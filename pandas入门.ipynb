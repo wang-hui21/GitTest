{
 "cells": [
  {
   "cell_type": "markdown",
   "id": "eeb2422f",
   "metadata": {},
   "source": [
    "### pandas和NumPy的最大不同就是pandas是用来处理表格型或异质型数据的。而NumPy的代码的风格则相反，它更适合处理同质型的数值类数组数据。"
   ]
  },
  {
   "cell_type": "code",
   "execution_count": 13,
   "id": "b3224126",
   "metadata": {},
   "outputs": [],
   "source": [
    "import pandas as pd\n",
    "from pandas import Series,DataFrame\n",
    "import numpy as np"
   ]
  },
  {
   "cell_type": "markdown",
   "id": "05bdfcd7",
   "metadata": {},
   "source": [
    "#### Series包含数据的索引"
   ]
  },
  {
   "cell_type": "code",
   "execution_count": 4,
   "id": "b2a3e727",
   "metadata": {},
   "outputs": [
    {
     "data": {
      "text/plain": [
       "0    4\n",
       "1    7\n",
       "2   -5\n",
       "3    3\n",
       "dtype: int64"
      ]
     },
     "execution_count": 4,
     "metadata": {},
     "output_type": "execute_result"
    }
   ],
   "source": [
    "obj=pd.Series([4,7,-5,3])\n",
    "obj"
   ]
  },
  {
   "cell_type": "code",
   "execution_count": 5,
   "id": "76d2a068",
   "metadata": {},
   "outputs": [
    {
     "name": "stdout",
     "output_type": "stream",
     "text": [
      "[ 4  7 -5  3]\n",
      "RangeIndex(start=0, stop=4, step=1)\n"
     ]
    }
   ],
   "source": [
    "#可以通过value和index分别得到Series对象的值和索引\n",
    "print(obj.values)\n",
    "print(obj.index)"
   ]
  },
  {
   "cell_type": "code",
   "execution_count": 6,
   "id": "37ca667c",
   "metadata": {},
   "outputs": [
    {
     "name": "stdout",
     "output_type": "stream",
     "text": [
      "d    4\n",
      "b    7\n",
      "c   -5\n",
      "a    3\n",
      "dtype: int64\n"
     ]
    }
   ],
   "source": [
    "#索引值可以由自己设定\n",
    "obj2=pd.Series([4,7,-5,3],index=['d','b','c','a'])\n",
    "print(obj2)"
   ]
  },
  {
   "cell_type": "code",
   "execution_count": 9,
   "id": "8d1d449e",
   "metadata": {},
   "outputs": [
    {
     "name": "stdout",
     "output_type": "stream",
     "text": [
      "3\n",
      "c   -5\n",
      "a    3\n",
      "d    6\n",
      "dtype: int64\n"
     ]
    }
   ],
   "source": [
    "#与NumPy相比，此处可以通过标签来进行索引\n",
    "print(obj2['a'])\n",
    "obj2['d']=6\n",
    "print(obj2[['c','a','d']])  #字符串作为索引列表"
   ]
  },
  {
   "cell_type": "markdown",
   "id": "0b79befe",
   "metadata": {},
   "source": [
    "#### 其四则运算符合数组的运算过程，依次计算且不改变索引位置"
   ]
  },
  {
   "cell_type": "code",
   "execution_count": 14,
   "id": "fbc9162f",
   "metadata": {},
   "outputs": [
    {
     "name": "stdout",
     "output_type": "stream",
     "text": [
      "d     403.428793\n",
      "b    1096.633158\n",
      "c       0.006738\n",
      "a      20.085537\n",
      "dtype: float64\n"
     ]
    }
   ],
   "source": [
    "print(np.exp(obj2))"
   ]
  },
  {
   "cell_type": "markdown",
   "id": "5eb5d16b",
   "metadata": {},
   "source": [
    "#### 如果有数据包含再python字典中，可以使用字典生成一个Series"
   ]
  },
  {
   "cell_type": "code",
   "execution_count": 16,
   "id": "9c444670",
   "metadata": {},
   "outputs": [
    {
     "name": "stdout",
     "output_type": "stream",
     "text": [
      "Ohio      35000\n",
      "Texas     71000\n",
      "Oregon    16000\n",
      "Utah       5000\n",
      "dtype: int64\n",
      "California        NaN\n",
      "Ohio          35000.0\n",
      "Oregon        16000.0\n",
      "Texas         71000.0\n",
      "dtype: float64\n"
     ]
    }
   ],
   "source": [
    "#其索引为字典的键，可以给出键值，使其输出符合你想要的顺序\n",
    "sdata={'Ohio':35000,'Texas':71000,'Oregon':16000,'Utah':5000}\n",
    "obj3=pd.Series(sdata)\n",
    "print(obj3)\n",
    "states=['California','Ohio','Oregon','Texas']\n",
    "obj4=pd.Series(sdata,index=states)\n",
    "print(obj4)"
   ]
  },
  {
   "cell_type": "code",
   "execution_count": 17,
   "id": "14f3b875",
   "metadata": {},
   "outputs": [
    {
     "name": "stdout",
     "output_type": "stream",
     "text": [
      "California     True\n",
      "Ohio          False\n",
      "Oregon        False\n",
      "Texas         False\n",
      "dtype: bool\n",
      "California    False\n",
      "Ohio           True\n",
      "Oregon         True\n",
      "Texas          True\n",
      "dtype: bool\n"
     ]
    }
   ],
   "source": [
    "#我们用isnull和notnull检查数据是否缺失\n",
    "print(pd.isnull(obj4))\n",
    "print(pd.notnull(obj4))\n"
   ]
  },
  {
   "cell_type": "code",
   "execution_count": 18,
   "id": "305fb321",
   "metadata": {},
   "outputs": [
    {
     "name": "stdout",
     "output_type": "stream",
     "text": [
      "California         NaN\n",
      "Ohio           70000.0\n",
      "Oregon         32000.0\n",
      "Texas         142000.0\n",
      "Utah               NaN\n",
      "dtype: float64\n"
     ]
    }
   ],
   "source": [
    "#其中的+按照运算结果来看应该是求交运算\n",
    "print(obj4+obj3)"
   ]
  },
  {
   "cell_type": "markdown",
   "id": "6dbb26f3",
   "metadata": {},
   "source": [
    "#### Series对象自身和其索引都有name属性"
   ]
  },
  {
   "cell_type": "code",
   "execution_count": 19,
   "id": "ff7e4168",
   "metadata": {},
   "outputs": [
    {
     "name": "stdout",
     "output_type": "stream",
     "text": [
      "state\n",
      "California        NaN\n",
      "Ohio          35000.0\n",
      "Oregon        16000.0\n",
      "Texas         71000.0\n",
      "Name: population, dtype: float64\n"
     ]
    }
   ],
   "source": [
    "obj4.name='population'\n",
    "obj4.index.name='state'\n",
    "print(obj4)"
   ]
  },
  {
   "cell_type": "code",
   "execution_count": null,
   "id": "757d5102",
   "metadata": {},
   "outputs": [],
   "source": []
  }
 ],
 "metadata": {
  "kernelspec": {
   "display_name": "Python 3 (ipykernel)",
   "language": "python",
   "name": "python3"
  },
  "language_info": {
   "codemirror_mode": {
    "name": "ipython",
    "version": 3
   },
   "file_extension": ".py",
   "mimetype": "text/x-python",
   "name": "python",
   "nbconvert_exporter": "python",
   "pygments_lexer": "ipython3",
   "version": "3.7.15"
  }
 },
 "nbformat": 4,
 "nbformat_minor": 5
}
