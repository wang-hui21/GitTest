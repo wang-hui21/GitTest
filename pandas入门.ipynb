{
 "cells": [
  {
   "cell_type": "markdown",
   "id": "eeb2422f",
   "metadata": {},
   "source": [
    "### pandas和NumPy的最大不同就是pandas是用来处理表格型或异质型数据的。而NumPy的代码的风格则相反，它更适合处理同质型的数值类数组数据。"
   ]
  },
  {
   "cell_type": "code",
   "execution_count": 2,
   "id": "b3224126",
   "metadata": {},
   "outputs": [],
   "source": [
    "import pandas as pd\n",
    "from pandas import Series,DataFrame\n",
    "import numpy as np"
   ]
  },
  {
   "cell_type": "markdown",
   "id": "05bdfcd7",
   "metadata": {},
   "source": [
    "#### Series包含数据的索引"
   ]
  },
  {
   "cell_type": "code",
   "execution_count": 4,
   "id": "b2a3e727",
   "metadata": {},
   "outputs": [
    {
     "data": {
      "text/plain": [
       "0    4\n",
       "1    7\n",
       "2   -5\n",
       "3    3\n",
       "dtype: int64"
      ]
     },
     "execution_count": 4,
     "metadata": {},
     "output_type": "execute_result"
    }
   ],
   "source": [
    "obj=pd.Series([4,7,-5,3])\n",
    "obj"
   ]
  },
  {
   "cell_type": "code",
   "execution_count": 5,
   "id": "76d2a068",
   "metadata": {},
   "outputs": [
    {
     "name": "stdout",
     "output_type": "stream",
     "text": [
      "[ 4  7 -5  3]\n",
      "RangeIndex(start=0, stop=4, step=1)\n"
     ]
    }
   ],
   "source": [
    "#可以通过value和index分别得到Series对象的值和索引\n",
    "print(obj.values)\n",
    "print(obj.index)"
   ]
  },
  {
   "cell_type": "code",
   "execution_count": 6,
   "id": "37ca667c",
   "metadata": {},
   "outputs": [
    {
     "name": "stdout",
     "output_type": "stream",
     "text": [
      "d    4\n",
      "b    7\n",
      "c   -5\n",
      "a    3\n",
      "dtype: int64\n"
     ]
    }
   ],
   "source": [
    "#索引值可以由自己设定\n",
    "obj2=pd.Series([4,7,-5,3],index=['d','b','c','a'])\n",
    "print(obj2)"
   ]
  },
  {
   "cell_type": "code",
   "execution_count": 9,
   "id": "8d1d449e",
   "metadata": {},
   "outputs": [
    {
     "name": "stdout",
     "output_type": "stream",
     "text": [
      "3\n",
      "c   -5\n",
      "a    3\n",
      "d    6\n",
      "dtype: int64\n"
     ]
    }
   ],
   "source": [
    "#与NumPy相比，此处可以通过标签来进行索引\n",
    "print(obj2['a'])\n",
    "obj2['d']=6\n",
    "print(obj2[['c','a','d']])  #字符串作为索引列表"
   ]
  },
  {
   "cell_type": "markdown",
   "id": "0b79befe",
   "metadata": {},
   "source": [
    "#### 其四则运算符合数组的运算过程，依次计算且不改变索引位置"
   ]
  },
  {
   "cell_type": "code",
   "execution_count": 14,
   "id": "fbc9162f",
   "metadata": {},
   "outputs": [
    {
     "name": "stdout",
     "output_type": "stream",
     "text": [
      "d     403.428793\n",
      "b    1096.633158\n",
      "c       0.006738\n",
      "a      20.085537\n",
      "dtype: float64\n"
     ]
    }
   ],
   "source": [
    "print(np.exp(obj2))"
   ]
  },
  {
   "cell_type": "markdown",
   "id": "5eb5d16b",
   "metadata": {},
   "source": [
    "#### 如果有数据包含再python字典中，可以使用字典生成一个Series"
   ]
  },
  {
   "cell_type": "code",
   "execution_count": 16,
   "id": "9c444670",
   "metadata": {},
   "outputs": [
    {
     "name": "stdout",
     "output_type": "stream",
     "text": [
      "Ohio      35000\n",
      "Texas     71000\n",
      "Oregon    16000\n",
      "Utah       5000\n",
      "dtype: int64\n",
      "California        NaN\n",
      "Ohio          35000.0\n",
      "Oregon        16000.0\n",
      "Texas         71000.0\n",
      "dtype: float64\n"
     ]
    }
   ],
   "source": [
    "#其索引为字典的键，可以给出键值，使其输出符合你想要的顺序\n",
    "sdata={'Ohio':35000,'Texas':71000,'Oregon':16000,'Utah':5000}\n",
    "obj3=pd.Series(sdata)\n",
    "print(obj3)\n",
    "states=['California','Ohio','Oregon','Texas']\n",
    "obj4=pd.Series(sdata,index=states)\n",
    "print(obj4)"
   ]
  },
  {
   "cell_type": "code",
   "execution_count": 17,
   "id": "14f3b875",
   "metadata": {},
   "outputs": [
    {
     "name": "stdout",
     "output_type": "stream",
     "text": [
      "California     True\n",
      "Ohio          False\n",
      "Oregon        False\n",
      "Texas         False\n",
      "dtype: bool\n",
      "California    False\n",
      "Ohio           True\n",
      "Oregon         True\n",
      "Texas          True\n",
      "dtype: bool\n"
     ]
    }
   ],
   "source": [
    "#我们用isnull和notnull检查数据是否缺失\n",
    "print(pd.isnull(obj4))\n",
    "print(pd.notnull(obj4))\n"
   ]
  },
  {
   "cell_type": "code",
   "execution_count": 18,
   "id": "305fb321",
   "metadata": {},
   "outputs": [
    {
     "name": "stdout",
     "output_type": "stream",
     "text": [
      "California         NaN\n",
      "Ohio           70000.0\n",
      "Oregon         32000.0\n",
      "Texas         142000.0\n",
      "Utah               NaN\n",
      "dtype: float64\n"
     ]
    }
   ],
   "source": [
    "#其中的+按照运算结果来看应该是求交运算\n",
    "print(obj4+obj3)"
   ]
  },
  {
   "cell_type": "markdown",
   "id": "6dbb26f3",
   "metadata": {},
   "source": [
    "#### Series对象自身和其索引都有name属性"
   ]
  },
  {
   "cell_type": "code",
   "execution_count": 19,
   "id": "ff7e4168",
   "metadata": {},
   "outputs": [
    {
     "name": "stdout",
     "output_type": "stream",
     "text": [
      "state\n",
      "California        NaN\n",
      "Ohio          35000.0\n",
      "Oregon        16000.0\n",
      "Texas         71000.0\n",
      "Name: population, dtype: float64\n"
     ]
    }
   ],
   "source": [
    "obj4.name='population'\n",
    "obj4.index.name='state'\n",
    "print(obj4)"
   ]
  },
  {
   "cell_type": "markdown",
   "id": "5d672096",
   "metadata": {},
   "source": [
    "#### DataFrame表示的是矩阵的数据表，它包含已排序的列集合，每一列可以是不同的值类型。\n",
    "#### DataFrame既有行索引也有列索引，它可以被视为一个共享相同索引的Series的字典。\n",
    "#### 在DataFrame中，数据被存储为一个以上的二维块，而不是列表，字典或其他一维数组的集合。"
   ]
  },
  {
   "cell_type": "code",
   "execution_count": 7,
   "id": "b873e56f",
   "metadata": {},
   "outputs": [
    {
     "name": "stdout",
     "output_type": "stream",
     "text": [
      "    state  year  pop\n",
      "0    Ohio  2000  1.5\n",
      "1    Ohio  2001  1.7\n",
      "2    Ohio  2002  3.6\n",
      "3  Nevada  2001  2.4\n",
      "4  Nevada  2002  2.9\n",
      "5  Nevada  2003  3.2\n"
     ]
    }
   ],
   "source": [
    "#DataFrame的构建\n",
    "data={'state':['Ohio','Ohio','Ohio','Nevada','Nevada','Nevada'],\n",
    "     'year':[2000,2001,2002,2001,2002,2003],\n",
    "     'pop':[1.5,1.7,3.6,2.4,2.9,3.2]}\n",
    "frame=pd.DataFrame(data)\n",
    "print(frame)"
   ]
  },
  {
   "cell_type": "code",
   "execution_count": 4,
   "id": "98a63cb1",
   "metadata": {},
   "outputs": [
    {
     "data": {
      "text/html": [
       "<div>\n",
       "<style scoped>\n",
       "    .dataframe tbody tr th:only-of-type {\n",
       "        vertical-align: middle;\n",
       "    }\n",
       "\n",
       "    .dataframe tbody tr th {\n",
       "        vertical-align: top;\n",
       "    }\n",
       "\n",
       "    .dataframe thead th {\n",
       "        text-align: right;\n",
       "    }\n",
       "</style>\n",
       "<table border=\"1\" class=\"dataframe\">\n",
       "  <thead>\n",
       "    <tr style=\"text-align: right;\">\n",
       "      <th></th>\n",
       "      <th>state</th>\n",
       "      <th>year</th>\n",
       "      <th>pop</th>\n",
       "    </tr>\n",
       "  </thead>\n",
       "  <tbody>\n",
       "    <tr>\n",
       "      <th>0</th>\n",
       "      <td>Ohio</td>\n",
       "      <td>2000</td>\n",
       "      <td>1.5</td>\n",
       "    </tr>\n",
       "    <tr>\n",
       "      <th>1</th>\n",
       "      <td>Ohio</td>\n",
       "      <td>2001</td>\n",
       "      <td>1.7</td>\n",
       "    </tr>\n",
       "    <tr>\n",
       "      <th>2</th>\n",
       "      <td>Ohio</td>\n",
       "      <td>2002</td>\n",
       "      <td>3.6</td>\n",
       "    </tr>\n",
       "    <tr>\n",
       "      <th>3</th>\n",
       "      <td>Nevada</td>\n",
       "      <td>2001</td>\n",
       "      <td>2.4</td>\n",
       "    </tr>\n",
       "    <tr>\n",
       "      <th>4</th>\n",
       "      <td>Nevada</td>\n",
       "      <td>2002</td>\n",
       "      <td>2.9</td>\n",
       "    </tr>\n",
       "  </tbody>\n",
       "</table>\n",
       "</div>"
      ],
      "text/plain": [
       "    state  year  pop\n",
       "0    Ohio  2000  1.5\n",
       "1    Ohio  2001  1.7\n",
       "2    Ohio  2002  3.6\n",
       "3  Nevada  2001  2.4\n",
       "4  Nevada  2002  2.9"
      ]
     },
     "execution_count": 4,
     "metadata": {},
     "output_type": "execute_result"
    }
   ],
   "source": [
    "#head方法提取表格前五行\n",
    "frame.head()"
   ]
  },
  {
   "cell_type": "code",
   "execution_count": 9,
   "id": "2cb8900f",
   "metadata": {},
   "outputs": [
    {
     "name": "stdout",
     "output_type": "stream",
     "text": [
      "   year   state  pop\n",
      "0  2000    Ohio  1.5\n",
      "1  2001    Ohio  1.7\n",
      "2  2002    Ohio  3.6\n",
      "3  2001  Nevada  2.4\n",
      "4  2002  Nevada  2.9\n",
      "5  2003  Nevada  3.2\n"
     ]
    }
   ],
   "source": [
    "#可以指定顺序排列\n",
    "print(pd.DataFrame(data,columns=['year','state','pop']))"
   ]
  },
  {
   "cell_type": "code",
   "execution_count": 10,
   "id": "5884140f",
   "metadata": {},
   "outputs": [
    {
     "name": "stdout",
     "output_type": "stream",
     "text": [
      "one      2000\n",
      "two      2001\n",
      "three    2002\n",
      "four     2001\n",
      "five     2002\n",
      "six      2003\n",
      "Name: year, dtype: int64\n"
     ]
    }
   ],
   "source": [
    "frame2=pd.DataFrame(data,columns=['year','state','pop','debt'],\n",
    "                   index=['one','two','three','four','five','six'])\n",
    "print(frame2.year)"
   ]
  },
  {
   "cell_type": "markdown",
   "id": "48be0c59",
   "metadata": {},
   "source": [
    "#### 想要获取行信息时，可以通过loc进行提取"
   ]
  },
  {
   "cell_type": "code",
   "execution_count": 11,
   "id": "aaea0e88",
   "metadata": {},
   "outputs": [
    {
     "data": {
      "text/plain": [
       "year     2002\n",
       "state    Ohio\n",
       "pop       3.6\n",
       "debt      NaN\n",
       "Name: three, dtype: object"
      ]
     },
     "execution_count": 11,
     "metadata": {},
     "output_type": "execute_result"
    }
   ],
   "source": [
    "frame2.loc['three']"
   ]
  },
  {
   "cell_type": "code",
   "execution_count": 12,
   "id": "e80cc8b2",
   "metadata": {},
   "outputs": [
    {
     "name": "stdout",
     "output_type": "stream",
     "text": [
      "       year   state  pop  debt\n",
      "one    2000    Ohio  1.5   0.0\n",
      "two    2001    Ohio  1.7   1.0\n",
      "three  2002    Ohio  3.6   2.0\n",
      "four   2001  Nevada  2.4   3.0\n",
      "five   2002  Nevada  2.9   4.0\n",
      "six    2003  Nevada  3.2   5.0\n"
     ]
    }
   ],
   "source": [
    "#对列的引用进行修改\n",
    "frame2['debt']=np.arange(6.)\n",
    "print(frame2)"
   ]
  },
  {
   "cell_type": "markdown",
   "id": "c508fdba",
   "metadata": {},
   "source": [
    "#### 可以通过series给DataFrame的列赋值，更方便"
   ]
  },
  {
   "cell_type": "code",
   "execution_count": 13,
   "id": "2cc502d6",
   "metadata": {},
   "outputs": [
    {
     "name": "stdout",
     "output_type": "stream",
     "text": [
      "       year   state  pop  debt\n",
      "one    2000    Ohio  1.5   NaN\n",
      "two    2001    Ohio  1.7  -1.2\n",
      "three  2002    Ohio  3.6   NaN\n",
      "four   2001  Nevada  2.4  -1.5\n",
      "five   2002  Nevada  2.9  -1.7\n",
      "six    2003  Nevada  3.2   NaN\n"
     ]
    }
   ],
   "source": [
    "val=pd.Series([-1.2,-1.5,-1.7],index=['two','four','five'])\n",
    "frame2['debt']=val   #只改变Series中包含的索引对应的值，无需输入所有列的值\n",
    "print(frame2)"
   ]
  },
  {
   "cell_type": "code",
   "execution_count": 15,
   "id": "4b6da724",
   "metadata": {},
   "outputs": [
    {
     "name": "stdout",
     "output_type": "stream",
     "text": [
      "       year   state  pop  debt  eastern\n",
      "one    2000    Ohio  1.5   NaN     True\n",
      "two    2001    Ohio  1.7  -1.2     True\n",
      "three  2002    Ohio  3.6   NaN     True\n",
      "four   2001  Nevada  2.4  -1.5    False\n",
      "five   2002  Nevada  2.9  -1.7    False\n",
      "six    2003  Nevada  3.2   NaN    False\n"
     ]
    }
   ],
   "source": [
    "###如果被赋予的值不存在，会生成一个新的列，删除列的时候可以用del\n",
    "frame2['eastern']=frame2.state=='Ohio' # frame.eastern无法创建新的列\n",
    "print(frame2)"
   ]
  },
  {
   "cell_type": "code",
   "execution_count": 16,
   "id": "60c0f72b",
   "metadata": {},
   "outputs": [
    {
     "name": "stdout",
     "output_type": "stream",
     "text": [
      "       year   state  pop  debt\n",
      "one    2000    Ohio  1.5   NaN\n",
      "two    2001    Ohio  1.7  -1.2\n",
      "three  2002    Ohio  3.6   NaN\n",
      "four   2001  Nevada  2.4  -1.5\n",
      "five   2002  Nevada  2.9  -1.7\n",
      "six    2003  Nevada  3.2   NaN\n"
     ]
    }
   ],
   "source": [
    "del frame2['eastern']\n",
    "print(frame2)"
   ]
  },
  {
   "cell_type": "markdown",
   "id": "7087a65f",
   "metadata": {},
   "source": [
    "#### 从DataFrame中选取的列是数据的视图，而不是拷贝。因此，对Series的修改会映射到DataFrame中。如果需要复制，需要显式的使用Series的copy方法。"
   ]
  },
  {
   "cell_type": "markdown",
   "id": "f563caca",
   "metadata": {},
   "source": [
    "包含字典的嵌套字数据形式"
   ]
  },
  {
   "cell_type": "code",
   "execution_count": 18,
   "id": "6a706091",
   "metadata": {},
   "outputs": [
    {
     "name": "stdout",
     "output_type": "stream",
     "text": [
      "      Nevada  Ohio\n",
      "2001     2.4   1.7\n",
      "2002     2.9   3.6\n",
      "2000     NaN   1.5\n"
     ]
    }
   ],
   "source": [
    "pop={'Nevada':{2001:2.4,2002:2.9},\n",
    "    'Ohio':{2000:1.5,2001:1.7,2002:3.6}}\n",
    "#将其赋值给DataFrame，pandas会将字典的键作为列，将内部字典的键作为行索引。\n",
    "frame3=pd.DataFrame(pop)\n",
    "print(frame3)"
   ]
  },
  {
   "cell_type": "code",
   "execution_count": 19,
   "id": "53510a0f",
   "metadata": {},
   "outputs": [
    {
     "name": "stdout",
     "output_type": "stream",
     "text": [
      "        2001  2002  2000\n",
      "Nevada   2.4   2.9   NaN\n",
      "Ohio     1.7   3.6   1.5\n"
     ]
    }
   ],
   "source": [
    "#转置操作\n",
    "print(frame3.T)"
   ]
  },
  {
   "cell_type": "code",
   "execution_count": 20,
   "id": "431baf76",
   "metadata": {},
   "outputs": [
    {
     "name": "stdout",
     "output_type": "stream",
     "text": [
      "[[2.4 1.7]\n",
      " [2.9 3.6]\n",
      " [nan 1.5]]\n"
     ]
    }
   ],
   "source": [
    "#和Series类似，DataFrame的values属性会将包含的数据以二维ndarray的形式返回\n",
    "print(frame3.values)"
   ]
  },
  {
   "cell_type": "markdown",
   "id": "ee60b76d",
   "metadata": {},
   "source": [
    "#### 重建索引"
   ]
  },
  {
   "cell_type": "code",
   "execution_count": 3,
   "id": "3d840107",
   "metadata": {},
   "outputs": [
    {
     "name": "stdout",
     "output_type": "stream",
     "text": [
      "d    4.4\n",
      "b    7.2\n",
      "a   -5.3\n",
      "c    3.6\n",
      "dtype: float64\n",
      "a   -5.3\n",
      "b    7.2\n",
      "c    3.6\n",
      "d    4.4\n",
      "e    NaN\n",
      "dtype: float64\n"
     ]
    }
   ],
   "source": [
    "obj=pd.Series([4.4,7.2,-5.3,3.6],index=['d','b','a','c'])\n",
    "print(obj)\n",
    "#调用reindex方法，会将数据按照新的索引进行排列，不存在的索引会引入缺省值\n",
    "obj2=obj.reindex(['a','b','c','d','e'])\n",
    "print(obj2)"
   ]
  },
  {
   "cell_type": "code",
   "execution_count": 5,
   "id": "dc53c48c",
   "metadata": {},
   "outputs": [
    {
     "name": "stdout",
     "output_type": "stream",
     "text": [
      "0      blue\n",
      "2    purple\n",
      "4    yellow\n",
      "dtype: object\n"
     ]
    },
    {
     "data": {
      "text/plain": [
       "0      blue\n",
       "1      blue\n",
       "2    purple\n",
       "3    purple\n",
       "4    yellow\n",
       "5    yellow\n",
       "dtype: object"
      ]
     },
     "execution_count": 5,
     "metadata": {},
     "output_type": "execute_result"
    }
   ],
   "source": [
    "#ffill在重建索引时向前填充\n",
    "obj3=pd.Series(['blue','purple','yellow'],index=[0,2,4])\n",
    "print(obj3)\n",
    "obj3.reindex(range(6),method='ffill')"
   ]
  },
  {
   "cell_type": "markdown",
   "id": "e6098f84",
   "metadata": {},
   "source": [
    "#### 在DataFrame中，reindex可以改变行索引、列索引，也可以同时改变"
   ]
  },
  {
   "cell_type": "code",
   "execution_count": 14,
   "id": "b43d3530",
   "metadata": {},
   "outputs": [
    {
     "name": "stdout",
     "output_type": "stream",
     "text": [
      "   Ohio  Texas  California\n",
      "a     0      1           2\n",
      "d     3      4           5\n",
      "c     6      7           8\n"
     ]
    }
   ],
   "source": [
    "frame=pd.DataFrame(np.arange(9).reshape((3,3)),\n",
    "                  index=['a','d','c'],\n",
    "                  columns=['Ohio','Texas','California'])\n",
    "print(frame)"
   ]
  },
  {
   "cell_type": "code",
   "execution_count": 12,
   "id": "92a86380",
   "metadata": {},
   "outputs": [
    {
     "name": "stdout",
     "output_type": "stream",
     "text": [
      "   Ohio  Texas  California\n",
      "a   0.0    1.0         2.0\n",
      "b   NaN    NaN         NaN\n",
      "c   6.0    7.0         8.0\n",
      "d   3.0    4.0         5.0\n",
      "   Texas  Utah  California\n",
      "a      1   NaN           2\n",
      "d      4   NaN           5\n",
      "c      7   NaN           8\n"
     ]
    }
   ],
   "source": [
    "frame2=frame.reindex(['a','b','c','d'])\n",
    "print(frame2)\n",
    "states=['Texas','Utah','California']\n",
    "frame=frame.reindex(columns=states)\n",
    "print(frame)"
   ]
  },
  {
   "cell_type": "code",
   "execution_count": 20,
   "id": "d5c47045",
   "metadata": {},
   "outputs": [
    {
     "name": "stdout",
     "output_type": "stream",
     "text": [
      "   Texas  California\n",
      "a      1           2\n",
      "c      7           8\n",
      "d      4           5\n"
     ]
    }
   ],
   "source": [
    "states=['Texas','California']\n",
    "#可以使用loc进行更加简洁的标签索引\n",
    "frame=frame.loc[['a','c','d'],states] #loc只能选择列表中含有的行和列，不可以自动添加不存在的值\n",
    "print(frame)"
   ]
  },
  {
   "cell_type": "markdown",
   "id": "6eec3f8d",
   "metadata": {},
   "source": [
    "### 5.2.2轴向上删除条目"
   ]
  },
  {
   "cell_type": "markdown",
   "id": "5d6ce36b",
   "metadata": {},
   "source": [
    "#### axis=1表式列，axis=0表示行"
   ]
  },
  {
   "cell_type": "code",
   "execution_count": 22,
   "id": "a3dc9a6f",
   "metadata": {},
   "outputs": [
    {
     "name": "stdout",
     "output_type": "stream",
     "text": [
      "          one  two  three  four\n",
      "Ohio        0    1      2     3\n",
      "Colorado    4    5      6     7\n",
      "Utah        8    9     10    11\n",
      "New Year   12   13     14    15\n",
      "          one  two  three  four\n",
      "Utah        8    9     10    11\n",
      "New Year   12   13     14    15           three  four\n",
      "Ohio          2     3\n",
      "Colorado      6     7\n",
      "Utah         10    11\n",
      "New Year     14    15           one  three\n",
      "Ohio        0      2\n",
      "Colorado    4      6\n",
      "Utah        8     10\n",
      "New Year   12     14\n"
     ]
    }
   ],
   "source": [
    "data=pd.DataFrame(np.arange(16).reshape((4,4)),\n",
    "                  index=['Ohio','Colorado','Utah','New Year'],\n",
    "                  columns=['one','two','three','four'])\n",
    "print(data)\n",
    "data1=data.drop(['Colorado','Ohio'])  #默认axis为0，删除行\n",
    "data2=data.drop(['two','one'],axis=1)\n",
    "data3=data.drop(['two','four'],axis='columns')\n",
    "print(data1,data2,data3)"
   ]
  },
  {
   "cell_type": "code",
   "execution_count": 24,
   "id": "9a2bcbcd",
   "metadata": {},
   "outputs": [
    {
     "data": {
      "text/html": [
       "<div>\n",
       "<style scoped>\n",
       "    .dataframe tbody tr th:only-of-type {\n",
       "        vertical-align: middle;\n",
       "    }\n",
       "\n",
       "    .dataframe tbody tr th {\n",
       "        vertical-align: top;\n",
       "    }\n",
       "\n",
       "    .dataframe thead th {\n",
       "        text-align: right;\n",
       "    }\n",
       "</style>\n",
       "<table border=\"1\" class=\"dataframe\">\n",
       "  <thead>\n",
       "    <tr style=\"text-align: right;\">\n",
       "      <th></th>\n",
       "      <th>one</th>\n",
       "      <th>three</th>\n",
       "    </tr>\n",
       "  </thead>\n",
       "  <tbody>\n",
       "    <tr>\n",
       "      <th>Ohio</th>\n",
       "      <td>0</td>\n",
       "      <td>2</td>\n",
       "    </tr>\n",
       "    <tr>\n",
       "      <th>Colorado</th>\n",
       "      <td>4</td>\n",
       "      <td>6</td>\n",
       "    </tr>\n",
       "    <tr>\n",
       "      <th>Utah</th>\n",
       "      <td>8</td>\n",
       "      <td>10</td>\n",
       "    </tr>\n",
       "    <tr>\n",
       "      <th>New Year</th>\n",
       "      <td>12</td>\n",
       "      <td>14</td>\n",
       "    </tr>\n",
       "  </tbody>\n",
       "</table>\n",
       "</div>"
      ],
      "text/plain": [
       "          one  three\n",
       "Ohio        0      2\n",
       "Colorado    4      6\n",
       "Utah        8     10\n",
       "New Year   12     14"
      ]
     },
     "execution_count": 24,
     "metadata": {},
     "output_type": "execute_result"
    }
   ],
   "source": [
    "#drop函数直接操作原对象，不返回新对象\n",
    "data.drop(['two','four'],axis='columns')"
   ]
  },
  {
   "cell_type": "markdown",
   "id": "86ea2fec",
   "metadata": {},
   "source": [
    "### 5.2.3索引、选择与过滤"
   ]
  },
  {
   "cell_type": "markdown",
   "id": "c019a7a6",
   "metadata": {},
   "source": [
    "#### loc使用轴标签，iloc使用整数标签"
   ]
  },
  {
   "cell_type": "code",
   "execution_count": 26,
   "id": "f353c8d2",
   "metadata": {},
   "outputs": [
    {
     "data": {
      "text/plain": [
       "Ohio        1\n",
       "Colorado    5\n",
       "Utah        9\n",
       "Name: two, dtype: int32"
      ]
     },
     "execution_count": 26,
     "metadata": {},
     "output_type": "execute_result"
    }
   ],
   "source": [
    "data.loc[:'Utah','two']"
   ]
  },
  {
   "cell_type": "code",
   "execution_count": 27,
   "id": "d1e1318a",
   "metadata": {},
   "outputs": [
    {
     "data": {
      "text/html": [
       "<div>\n",
       "<style scoped>\n",
       "    .dataframe tbody tr th:only-of-type {\n",
       "        vertical-align: middle;\n",
       "    }\n",
       "\n",
       "    .dataframe tbody tr th {\n",
       "        vertical-align: top;\n",
       "    }\n",
       "\n",
       "    .dataframe thead th {\n",
       "        text-align: right;\n",
       "    }\n",
       "</style>\n",
       "<table border=\"1\" class=\"dataframe\">\n",
       "  <thead>\n",
       "    <tr style=\"text-align: right;\">\n",
       "      <th></th>\n",
       "      <th>one</th>\n",
       "      <th>two</th>\n",
       "      <th>three</th>\n",
       "    </tr>\n",
       "  </thead>\n",
       "  <tbody>\n",
       "    <tr>\n",
       "      <th>Colorado</th>\n",
       "      <td>4</td>\n",
       "      <td>5</td>\n",
       "      <td>6</td>\n",
       "    </tr>\n",
       "    <tr>\n",
       "      <th>Utah</th>\n",
       "      <td>8</td>\n",
       "      <td>9</td>\n",
       "      <td>10</td>\n",
       "    </tr>\n",
       "    <tr>\n",
       "      <th>New Year</th>\n",
       "      <td>12</td>\n",
       "      <td>13</td>\n",
       "      <td>14</td>\n",
       "    </tr>\n",
       "  </tbody>\n",
       "</table>\n",
       "</div>"
      ],
      "text/plain": [
       "          one  two  three\n",
       "Colorado    4    5      6\n",
       "Utah        8    9     10\n",
       "New Year   12   13     14"
      ]
     },
     "execution_count": 27,
     "metadata": {},
     "output_type": "execute_result"
    }
   ],
   "source": [
    "data.iloc[:,:3][data.three>5]"
   ]
  },
  {
   "cell_type": "markdown",
   "id": "11fd944a",
   "metadata": {},
   "source": [
    "### 5.2.4整数索引"
   ]
  },
  {
   "cell_type": "markdown",
   "id": "4d90a039",
   "metadata": {},
   "source": [
    "#### 使用整数索引有可能会由于数据内的值产生歧义，所以为了更精确的处理，可以使用loc或iloc显示的指明此处所用的索引类型。"
   ]
  },
  {
   "cell_type": "code",
   "execution_count": 30,
   "id": "f7c90a10",
   "metadata": {},
   "outputs": [
    {
     "name": "stdout",
     "output_type": "stream",
     "text": [
      "0    0.0\n",
      "1    1.0\n",
      "2    2.0\n",
      "dtype: float64\n",
      "0    0.0\n",
      "dtype: float64\n",
      "0    0.0\n",
      "1    1.0\n",
      "dtype: float64\n",
      "0    0.0\n",
      "dtype: float64\n"
     ]
    }
   ],
   "source": [
    "ser=pd.Series(np.arange(3.))\n",
    "print(ser)\n",
    "print(ser[:1])\n",
    "print(ser.loc[:1])\n",
    "print(ser.iloc[:1])"
   ]
  },
  {
   "cell_type": "markdown",
   "id": "aa6f2b90",
   "metadata": {},
   "source": [
    "### 5.2.5算术和数据对齐"
   ]
  },
  {
   "cell_type": "markdown",
   "id": "34de3662",
   "metadata": {},
   "source": [
    "#### 将对象相加时，如果存在某个索引对不相同，则返回结果的索引是索引对的并集。"
   ]
  },
  {
   "cell_type": "code",
   "execution_count": 4,
   "id": "0a1d213c",
   "metadata": {},
   "outputs": [
    {
     "name": "stdout",
     "output_type": "stream",
     "text": [
      "     a    b     c     d\n",
      "0  0.0  1.0   2.0   3.0\n",
      "1  4.0  5.0   6.0   7.0\n",
      "2  8.0  9.0  10.0  11.0\n",
      "      a     b     c     d     e\n",
      "0   0.0   1.0   2.0   3.0   4.0\n",
      "1   5.0   NaN   7.0   8.0   9.0\n",
      "2  10.0  11.0  12.0  13.0  14.0\n",
      "3  15.0  16.0  17.0  18.0  19.0\n"
     ]
    }
   ],
   "source": [
    "#使用填充值的算术方法\n",
    "df1=pd.DataFrame(np.arange(12.).reshape((3,4)),\n",
    "                columns=list('abcd'))\n",
    "df2=pd.DataFrame(np.arange(20.).reshape((4,5)),\n",
    "                columns=list('abcde'))\n",
    "df2.loc[1,'b']=np.nan\n",
    "print(df1)\n",
    "print(df2)"
   ]
  },
  {
   "cell_type": "code",
   "execution_count": 5,
   "id": "ce7834fd",
   "metadata": {},
   "outputs": [
    {
     "name": "stdout",
     "output_type": "stream",
     "text": [
      "      a     b     c     d   e\n",
      "0   0.0   2.0   4.0   6.0 NaN\n",
      "1   9.0   NaN  13.0  15.0 NaN\n",
      "2  18.0  20.0  22.0  24.0 NaN\n",
      "3   NaN   NaN   NaN   NaN NaN\n"
     ]
    }
   ],
   "source": [
    "#将以上df添加到一起会导致在一些不重叠的位置出现NA值\n",
    "print(df1+df2)"
   ]
  },
  {
   "cell_type": "code",
   "execution_count": 6,
   "id": "0dc5adb1",
   "metadata": {},
   "outputs": [
    {
     "name": "stdout",
     "output_type": "stream",
     "text": [
      "      a     b     c     d     e\n",
      "0   0.0   2.0   4.0   6.0   4.0\n",
      "1   9.0   5.0  13.0  15.0   9.0\n",
      "2  18.0  20.0  22.0  24.0  14.0\n",
      "3  15.0  16.0  17.0  18.0  19.0\n"
     ]
    }
   ],
   "source": [
    "#在df1上使用add方法，将df2和一个fill_value作为参数传入\n",
    "print(df1.add(df2,fill_value=0))"
   ]
  },
  {
   "cell_type": "code",
   "execution_count": 9,
   "id": "c808a461",
   "metadata": {},
   "outputs": [
    {
     "name": "stdout",
     "output_type": "stream",
     "text": [
      "     a    b     c     d\n",
      "0  0.0  1.0   2.0   3.0\n",
      "1  4.0  5.0   6.0   7.0\n",
      "2  8.0  9.0  10.0  11.0\n",
      "0    1.0\n",
      "1    5.0\n",
      "2    9.0\n",
      "Name: b, dtype: float64\n"
     ]
    }
   ],
   "source": [
    "df=df1['b']\n",
    "print(df1)\n",
    "print(df)"
   ]
  },
  {
   "cell_type": "code",
   "execution_count": 10,
   "id": "b40f7fb3",
   "metadata": {},
   "outputs": [
    {
     "name": "stdout",
     "output_type": "stream",
     "text": [
      "     a    b    c    d\n",
      "0 -1.0  0.0  1.0  2.0\n",
      "1 -1.0  0.0  1.0  2.0\n",
      "2 -1.0  0.0  1.0  2.0\n"
     ]
    }
   ],
   "source": [
    "print(df1.sub(df,axis='index'))\n"
   ]
  },
  {
   "cell_type": "markdown",
   "id": "8819c1b5",
   "metadata": {},
   "source": [
    "### 5.2.6函数应用和映射"
   ]
  },
  {
   "cell_type": "code",
   "execution_count": 11,
   "id": "8777e613",
   "metadata": {},
   "outputs": [
    {
     "name": "stdout",
     "output_type": "stream",
     "text": [
      "               b         d         e\n",
      "Utah    1.006485 -0.305028 -0.591989\n",
      "Ohio   -1.783913 -0.490347 -0.646261\n",
      "Texas   2.569576  0.034955 -1.060071\n",
      "Oregon  0.975454 -0.308049 -1.103343\n"
     ]
    }
   ],
   "source": [
    "frame=pd.DataFrame(np.random.randn(4,3),columns=list('bde'),\n",
    "                  index=['Utah','Ohio','Texas','Oregon'])\n",
    "print(frame)"
   ]
  },
  {
   "cell_type": "code",
   "execution_count": 12,
   "id": "55dbb611",
   "metadata": {},
   "outputs": [
    {
     "data": {
      "text/html": [
       "<div>\n",
       "<style scoped>\n",
       "    .dataframe tbody tr th:only-of-type {\n",
       "        vertical-align: middle;\n",
       "    }\n",
       "\n",
       "    .dataframe tbody tr th {\n",
       "        vertical-align: top;\n",
       "    }\n",
       "\n",
       "    .dataframe thead th {\n",
       "        text-align: right;\n",
       "    }\n",
       "</style>\n",
       "<table border=\"1\" class=\"dataframe\">\n",
       "  <thead>\n",
       "    <tr style=\"text-align: right;\">\n",
       "      <th></th>\n",
       "      <th>b</th>\n",
       "      <th>d</th>\n",
       "      <th>e</th>\n",
       "    </tr>\n",
       "  </thead>\n",
       "  <tbody>\n",
       "    <tr>\n",
       "      <th>Utah</th>\n",
       "      <td>1.006485</td>\n",
       "      <td>0.305028</td>\n",
       "      <td>0.591989</td>\n",
       "    </tr>\n",
       "    <tr>\n",
       "      <th>Ohio</th>\n",
       "      <td>1.783913</td>\n",
       "      <td>0.490347</td>\n",
       "      <td>0.646261</td>\n",
       "    </tr>\n",
       "    <tr>\n",
       "      <th>Texas</th>\n",
       "      <td>2.569576</td>\n",
       "      <td>0.034955</td>\n",
       "      <td>1.060071</td>\n",
       "    </tr>\n",
       "    <tr>\n",
       "      <th>Oregon</th>\n",
       "      <td>0.975454</td>\n",
       "      <td>0.308049</td>\n",
       "      <td>1.103343</td>\n",
       "    </tr>\n",
       "  </tbody>\n",
       "</table>\n",
       "</div>"
      ],
      "text/plain": [
       "               b         d         e\n",
       "Utah    1.006485  0.305028  0.591989\n",
       "Ohio    1.783913  0.490347  0.646261\n",
       "Texas   2.569576  0.034955  1.060071\n",
       "Oregon  0.975454  0.308049  1.103343"
      ]
     },
     "execution_count": 12,
     "metadata": {},
     "output_type": "execute_result"
    }
   ],
   "source": [
    "np.abs(frame)"
   ]
  },
  {
   "cell_type": "code",
   "execution_count": 14,
   "id": "2f0a0a90",
   "metadata": {},
   "outputs": [
    {
     "name": "stdout",
     "output_type": "stream",
     "text": [
      "b    4.353490\n",
      "d    0.525302\n",
      "e    0.511354\n",
      "dtype: float64\n",
      "Utah      1.598474\n",
      "Ohio      1.293566\n",
      "Texas     3.629647\n",
      "Oregon    2.078797\n",
      "dtype: float64\n"
     ]
    }
   ],
   "source": [
    "#apply方法\n",
    "f=lambda x: x.max()-x.min()\n",
    "print(frame.apply(f)) #f会被frame中的每一列被调用一次\n",
    "#如果传入axis=’columns‘给apply，函数每行将被调用\n",
    "print(frame.apply(f,axis='columns'))"
   ]
  },
  {
   "cell_type": "markdown",
   "id": "d3eda753",
   "metadata": {},
   "source": [
    "#### 传递给apply的函数不一定只要一个返回值，也可以包含多个返回值"
   ]
  },
  {
   "cell_type": "code",
   "execution_count": 16,
   "id": "26114ef2",
   "metadata": {},
   "outputs": [
    {
     "name": "stdout",
     "output_type": "stream",
     "text": [
      "            b         d         e\n",
      "min -1.783913 -0.490347 -1.103343\n",
      "max  2.569576  0.034955 -0.591989\n"
     ]
    }
   ],
   "source": [
    "def f(x):\n",
    "    return pd.Series([x.min(),x.max()],index=['min','max'])\n",
    "print(frame.apply(f))"
   ]
  },
  {
   "cell_type": "code",
   "execution_count": 19,
   "id": "215c651e",
   "metadata": {},
   "outputs": [
    {
     "name": "stdout",
     "output_type": "stream",
     "text": [
      "            b      d      e\n",
      "Utah     1.01  -0.31  -0.59\n",
      "Ohio    -1.78  -0.49  -0.65\n",
      "Texas    2.57   0.03  -1.06\n",
      "Oregon   0.98  -0.31  -1.10\n",
      "Utah      -0.59\n",
      "Ohio      -0.65\n",
      "Texas     -1.06\n",
      "Oregon    -1.10\n",
      "Name: e, dtype: object\n"
     ]
    }
   ],
   "source": [
    "#想要逐元素的python函数，可以使用applymap方法\n",
    "format=lambda x: '%.2f' %x\n",
    "print(frame.applymap(format))\n",
    "print(frame['e'].map(format))"
   ]
  },
  {
   "cell_type": "markdown",
   "id": "e6b3a112",
   "metadata": {},
   "source": [
    "### 5.2.7 排名和排序"
   ]
  },
  {
   "cell_type": "code",
   "execution_count": 22,
   "id": "ec9814d3",
   "metadata": {},
   "outputs": [
    {
     "name": "stdout",
     "output_type": "stream",
     "text": [
      "a    0\n",
      "b    2\n",
      "c    3\n",
      "d    1\n",
      "dtype: int64\n"
     ]
    }
   ],
   "source": [
    "\n",
    "#对数据集进行排序的一个重要内建操作。\n",
    "#按行或列索引进行字典型排序，需要使用sort_index方法\n",
    "obj=pd.Series(range(4),index=['a','d','b','c'])\n",
    "print(obj.sort_index())"
   ]
  },
  {
   "cell_type": "code",
   "execution_count": 25,
   "id": "85806cd8",
   "metadata": {},
   "outputs": [
    {
     "name": "stdout",
     "output_type": "stream",
     "text": [
      "<bound method DataFrame.sort_index of        d  a  b  c\n",
      "three  0  1  2  3\n",
      "one    4  5  6  7>\n"
     ]
    }
   ],
   "source": [
    "#在DataFrame中，可以在各个轴上按索引排序\n",
    "frame=pd.DataFrame(np.arange(8).reshape((2,4)),\n",
    "                  index=['three','one'],\n",
    "                  columns=['d','a','b','c'])\n",
    "print(frame.sort_index)"
   ]
  },
  {
   "cell_type": "code",
   "execution_count": 26,
   "id": "6ac45644",
   "metadata": {},
   "outputs": [
    {
     "name": "stdout",
     "output_type": "stream",
     "text": [
      "       a  b  c  d\n",
      "three  1  2  3  0\n",
      "one    5  6  7  4\n",
      "       d  c  b  a\n",
      "three  0  3  2  1\n",
      "one    4  7  6  5\n"
     ]
    }
   ],
   "source": [
    "#按列排序\n",
    "print(frame.sort_index(axis=1))\n",
    "#降序排序\n",
    "print(frame.sort_index(axis=1,ascending=False))"
   ]
  },
  {
   "cell_type": "code",
   "execution_count": 27,
   "id": "be567844",
   "metadata": {},
   "outputs": [
    {
     "name": "stdout",
     "output_type": "stream",
     "text": [
      "   b  a\n",
      "0  4  0\n",
      "1  7  1\n",
      "2 -3  0\n",
      "3  2  1\n"
     ]
    }
   ],
   "source": [
    "#可以选择列进行排序，将列名作为参数传递给函数\n",
    "frame=pd.DataFrame({'b':[4,7,-3,2],'a':[0,1,0,1]})\n",
    "print(frame)"
   ]
  },
  {
   "cell_type": "code",
   "execution_count": 29,
   "id": "779d94a0",
   "metadata": {},
   "outputs": [
    {
     "name": "stdout",
     "output_type": "stream",
     "text": [
      "   b  a\n",
      "2 -3  0\n",
      "3  2  1\n",
      "0  4  0\n",
      "1  7  1\n",
      "   b  a\n",
      "2 -3  0\n",
      "0  4  0\n",
      "3  2  1\n",
      "1  7  1\n"
     ]
    }
   ],
   "source": [
    "print(frame.sort_values(by='b'))\n",
    "print(frame.sort_values(by=['a','b']))"
   ]
  },
  {
   "cell_type": "code",
   "execution_count": 30,
   "id": "fa0efc01",
   "metadata": {},
   "outputs": [
    {
     "name": "stdout",
     "output_type": "stream",
     "text": [
      "0    6.5\n",
      "1    1.0\n",
      "2    6.5\n",
      "3    4.5\n",
      "4    3.0\n",
      "5    2.0\n",
      "6    4.5\n",
      "dtype: float64\n"
     ]
    }
   ],
   "source": [
    "#rank排名函数\n",
    "obj=pd.Series([7,-5,7,4,2,0,4])\n",
    "print(obj.rank())"
   ]
  },
  {
   "cell_type": "code",
   "execution_count": 31,
   "id": "7d9481d5",
   "metadata": {},
   "outputs": [
    {
     "name": "stdout",
     "output_type": "stream",
     "text": [
      "0    6.0\n",
      "1    1.0\n",
      "2    7.0\n",
      "3    4.0\n",
      "4    3.0\n",
      "5    2.0\n",
      "6    5.0\n",
      "dtype: float64\n"
     ]
    }
   ],
   "source": [
    "#排名时，如果并列不取平均，按观察的顺序排序\n",
    "print(obj.rank(method='first'))"
   ]
  },
  {
   "cell_type": "code",
   "execution_count": 33,
   "id": "7686b7c5",
   "metadata": {},
   "outputs": [
    {
     "name": "stdout",
     "output_type": "stream",
     "text": [
      "0    2.0\n",
      "1    7.0\n",
      "2    2.0\n",
      "3    4.0\n",
      "4    5.0\n",
      "5    6.0\n",
      "6    4.0\n",
      "dtype: float64\n"
     ]
    }
   ],
   "source": [
    "#将值分配给组中的最大排名\n",
    "print(obj.rank(ascending=False,method='max'))"
   ]
  },
  {
   "cell_type": "code",
   "execution_count": 34,
   "id": "7938fd20",
   "metadata": {},
   "outputs": [
    {
     "name": "stdout",
     "output_type": "stream",
     "text": [
      "     b    a    c\n",
      "0  3.0  2.0  1.0\n",
      "1  3.0  1.0  2.0\n",
      "2  1.0  2.0  3.0\n",
      "3  3.0  2.0  1.0\n",
      "     b    a    c\n",
      "0  3.0  1.5  2.0\n",
      "1  4.0  3.5  3.0\n",
      "2  1.0  1.5  4.0\n",
      "3  2.0  3.5  1.0\n"
     ]
    }
   ],
   "source": [
    "frame=pd.DataFrame({'b':[4.3,7,-3,2],'a':[0,1,0,1],'c':[-2,5,8,-2.5]})\n",
    "print(frame.rank(axis='columns'))\n",
    "print(frame.rank())"
   ]
  },
  {
   "cell_type": "markdown",
   "id": "7bbfe4e7",
   "metadata": {},
   "source": [
    "### 5.2.8 含有重复标签的轴索引"
   ]
  },
  {
   "cell_type": "code",
   "execution_count": 35,
   "id": "534505a8",
   "metadata": {},
   "outputs": [],
   "source": [
    "#is_unique用来判断标签是否唯一\n"
   ]
  },
  {
   "cell_type": "markdown",
   "id": "064db311",
   "metadata": {},
   "source": [
    "## 5.3 描述性统计的概述与计算"
   ]
  },
  {
   "cell_type": "code",
   "execution_count": 37,
   "id": "cbb1ecee",
   "metadata": {},
   "outputs": [
    {
     "name": "stdout",
     "output_type": "stream",
     "text": [
      "    one  two\n",
      "a  1.40  NaN\n",
      "b  7.10 -4.5\n",
      "c   NaN  NaN\n",
      "d  0.75 -1.3\n",
      "one    9.25\n",
      "two   -5.80\n",
      "dtype: float64\n",
      "a    1.40\n",
      "b    2.60\n",
      "c    0.00\n",
      "d   -0.55\n",
      "dtype: float64\n",
      "a      NaN\n",
      "b    1.300\n",
      "c      NaN\n",
      "d   -0.275\n",
      "dtype: float64\n"
     ]
    }
   ],
   "source": [
    "df=pd.DataFrame([[1.4,np.nan],[7.1,-4.5],\n",
    "                [np.nan,np.nan],[0.75,-1.3]],\n",
    "               index=['a','b','c','d'],\n",
    "               columns=['one','two'])\n",
    "print(df)\n",
    "#包含列上加和\n",
    "print(df.sum())\n",
    "#包含行上加和\n",
    "print(df.sum(axis='columns'))\n",
    "#使用skipna来实现不排除NA值\n",
    "print(df.mean(axis='columns',skipna=False))"
   ]
  },
  {
   "cell_type": "code",
   "execution_count": 38,
   "id": "490e947f",
   "metadata": {},
   "outputs": [
    {
     "data": {
      "text/html": [
       "<div>\n",
       "<style scoped>\n",
       "    .dataframe tbody tr th:only-of-type {\n",
       "        vertical-align: middle;\n",
       "    }\n",
       "\n",
       "    .dataframe tbody tr th {\n",
       "        vertical-align: top;\n",
       "    }\n",
       "\n",
       "    .dataframe thead th {\n",
       "        text-align: right;\n",
       "    }\n",
       "</style>\n",
       "<table border=\"1\" class=\"dataframe\">\n",
       "  <thead>\n",
       "    <tr style=\"text-align: right;\">\n",
       "      <th></th>\n",
       "      <th>one</th>\n",
       "      <th>two</th>\n",
       "    </tr>\n",
       "  </thead>\n",
       "  <tbody>\n",
       "    <tr>\n",
       "      <th>count</th>\n",
       "      <td>3.000000</td>\n",
       "      <td>2.000000</td>\n",
       "    </tr>\n",
       "    <tr>\n",
       "      <th>mean</th>\n",
       "      <td>3.083333</td>\n",
       "      <td>-2.900000</td>\n",
       "    </tr>\n",
       "    <tr>\n",
       "      <th>std</th>\n",
       "      <td>3.493685</td>\n",
       "      <td>2.262742</td>\n",
       "    </tr>\n",
       "    <tr>\n",
       "      <th>min</th>\n",
       "      <td>0.750000</td>\n",
       "      <td>-4.500000</td>\n",
       "    </tr>\n",
       "    <tr>\n",
       "      <th>25%</th>\n",
       "      <td>1.075000</td>\n",
       "      <td>-3.700000</td>\n",
       "    </tr>\n",
       "    <tr>\n",
       "      <th>50%</th>\n",
       "      <td>1.400000</td>\n",
       "      <td>-2.900000</td>\n",
       "    </tr>\n",
       "    <tr>\n",
       "      <th>75%</th>\n",
       "      <td>4.250000</td>\n",
       "      <td>-2.100000</td>\n",
       "    </tr>\n",
       "    <tr>\n",
       "      <th>max</th>\n",
       "      <td>7.100000</td>\n",
       "      <td>-1.300000</td>\n",
       "    </tr>\n",
       "  </tbody>\n",
       "</table>\n",
       "</div>"
      ],
      "text/plain": [
       "            one       two\n",
       "count  3.000000  2.000000\n",
       "mean   3.083333 -2.900000\n",
       "std    3.493685  2.262742\n",
       "min    0.750000 -4.500000\n",
       "25%    1.075000 -3.700000\n",
       "50%    1.400000 -2.900000\n",
       "75%    4.250000 -2.100000\n",
       "max    7.100000 -1.300000"
      ]
     },
     "execution_count": 38,
     "metadata": {},
     "output_type": "execute_result"
    }
   ],
   "source": [
    "df.describe()"
   ]
  },
  {
   "cell_type": "code",
   "execution_count": 39,
   "id": "215d7dcd",
   "metadata": {},
   "outputs": [
    {
     "name": "stdout",
     "output_type": "stream",
     "text": [
      "count     16\n",
      "unique     3\n",
      "top        a\n",
      "freq       8\n",
      "dtype: object\n"
     ]
    }
   ],
   "source": [
    "#非数值型数据\n",
    "obj=pd.Series(['a','a','b','c']*4)\n",
    "print(obj.describe())"
   ]
  },
  {
   "cell_type": "markdown",
   "id": "6f36b544",
   "metadata": {},
   "source": [
    "### 5.3.1 相关性和协方差"
   ]
  },
  {
   "cell_type": "code",
   "execution_count": null,
   "id": "7fdbb88a",
   "metadata": {},
   "outputs": [],
   "source": [
    "conda install pandas-datareader"
   ]
  },
  {
   "cell_type": "code",
   "execution_count": null,
   "id": "3d402d23",
   "metadata": {},
   "outputs": [],
   "source": []
  }
 ],
 "metadata": {
  "kernelspec": {
   "display_name": "Python 3 (ipykernel)",
   "language": "python",
   "name": "python3"
  },
  "language_info": {
   "codemirror_mode": {
    "name": "ipython",
    "version": 3
   },
   "file_extension": ".py",
   "mimetype": "text/x-python",
   "name": "python",
   "nbconvert_exporter": "python",
   "pygments_lexer": "ipython3",
   "version": "3.7.15"
  }
 },
 "nbformat": 4,
 "nbformat_minor": 5
}
